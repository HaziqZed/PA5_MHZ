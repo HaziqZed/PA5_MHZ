{
 "cells": [
  {
   "cell_type": "code",
   "execution_count": 9,
   "metadata": {},
   "outputs": [],
   "source": [
    "Translate = {'person':'orang','food':'makanan','drink':'minuman','dog':'anjing','cat':'kucing','shirt':'baju',\n",
    "             'pants':'seluar','hat':'topi','bird':'burung','sad':'sedih','happy':'gembira','help':'tolong',\n",
    "             'if':'kalau','why':'kenapa','no':'tak','yes':'iya','where':'mana','tall':'tinggi','short':'pendek',\n",
    "             'sing':'menyanyi'}\n",
    "\n"
   ]
  },
  {
   "cell_type": "code",
   "execution_count": null,
   "metadata": {},
   "outputs": [
    {
     "name": "stdout",
     "output_type": "stream",
     "text": [
      "Enter a word to translate from English to Malay (enter 0 to stop): dog\n",
      "The Malay word for dog is not in this dictionary\n"
     ]
    }
   ],
   "source": [
    "for english, malay in Translate.items():\n",
    "    word = input(\"Enter a word to translate from English to Malay (enter 0 to stop): \")\n",
    "    if word in english:\n",
    "        print(\"The Malay word for\",word,\"is\",malay)\n",
    "    else:\n",
    "        print(\"The Malay word for\",word,\"is not in this dictionary\")"
   ]
  },
  {
   "cell_type": "code",
   "execution_count": null,
   "metadata": {},
   "outputs": [],
   "source": []
  }
 ],
 "metadata": {
  "kernelspec": {
   "display_name": "Python 3",
   "language": "python",
   "name": "python3"
  }
 },
 "nbformat": 4,
 "nbformat_minor": 4
}
